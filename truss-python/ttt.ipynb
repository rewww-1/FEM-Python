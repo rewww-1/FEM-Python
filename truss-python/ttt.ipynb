{
 "cells": [
  {
   "cell_type": "code",
   "execution_count": 1,
   "metadata": {},
   "outputs": [],
   "source": [
    "from sys import argv,exit\n",
    "import FEData as model\n",
    "from TrussElem import TrussElem\n",
    "from PrePost import create_model_json, print_stress\n",
    "from utitls import assembly, solvedr\n",
    "import numpy as np\n",
    "import matplotlib\n",
    "matplotlib.use('TkAgg')\n",
    "\n",
    "import matplotlib.pyplot as plt"
   ]
  },
  {
   "cell_type": "code",
   "execution_count": 2,
   "metadata": {},
   "outputs": [],
   "source": [
    "def FERun(DataFile):\n",
    "    # create FE model from DataFile in json format\n",
    "    create_model_json(DataFile)\n",
    "\n",
    "    # Element matrix computations and assembly\n",
    "    for e in range(model.nel):\n",
    "        ke = TrussElem(e)\n",
    "        assembly(e, ke)\n",
    "   \n",
    "    # Partition and solution\n",
    "    solvedr()\n",
    "   \n",
    "    # Postprocessing\n",
    "    print_stress()"
   ]
  },
  {
   "cell_type": "code",
   "execution_count": 5,
   "metadata": {},
   "outputs": [
    {
     "name": "stdout",
     "output_type": "stream",
     "text": [
      "\t2D Truss Params \n",
      "\n",
      " hw3_1\n",
      "\n",
      "No. of Elements  22\n",
      "No. of Nodes     12\n",
      "No. of Equations 24\n",
      "\n",
      "solution d\n",
      "[-2.12658228e-16 -4.20000000e-16  2.12658228e-16 -2.80000000e-16\n",
      " -4.25316456e-06 -5.09701899e-05 -2.20632911e-06 -9.56802532e-05\n",
      "  4.30632911e-06 -8.05602532e-05  4.25316456e-06 -4.18351899e-05\n",
      " -2.21270886e-05 -7.46666667e-06 -1.79270886e-05 -4.93018565e-05\n",
      " -9.52708861e-06 -8.38210127e-05  7.07088608e-07 -9.14743460e-05\n",
      "  1.33070886e-05 -6.21701899e-05  1.96070886e-05 -1.12000000e-05]\n",
      "\n",
      "reaction f = [[ 2126.58227844]\n",
      " [ 4200.        ]\n",
      " [-2126.58227844]\n",
      " [ 2800.        ]]\n",
      "Element\t\t\tStress\n",
      "1\t\t\t-420000.0000000017\n",
      "2\t\t\t-212658.22784379512\n",
      "3\t\t\t525000.000000002\n",
      "4\t\t\t-315000.00000000105\n",
      "5\t\t\t-420000.00000000134\n",
      "6\t\t\t102341.7721562061\n",
      "7\t\t\t525000.0000000009\n",
      "8\t\t\t-630000.000000002\n",
      "9\t\t\t157721.51898698215\n",
      "10\t\t\t325632.9113964441\n",
      "11\t\t\t-197151.89873372894\n",
      "12\t\t\t-511708.8607597648\n",
      "13\t\t\t-122278.48101301739\n",
      "14\t\t\t152848.10126627047\n",
      "15\t\t\t-2658.227843794205\n",
      "16\t\t\t350000.00000000105\n",
      "17\t\t\t-280000.0000000013\n",
      "18\t\t\t-420000.0000000019\n",
      "19\t\t\t-210000.00000000105\n",
      "20\t\t\t350000.0000000016\n",
      "21\t\t\t-280000.00000000116\n",
      "22\t\t\t-212658.227843795\n"
     ]
    }
   ],
   "source": [
    "FERun('hw3_1.json')\n"
   ]
  },
  {
   "cell_type": "code",
   "execution_count": null,
   "metadata": {},
   "outputs": [],
   "source": []
  }
 ],
 "metadata": {
  "kernelspec": {
   "display_name": "Python 3",
   "language": "python",
   "name": "python3"
  },
  "language_info": {
   "codemirror_mode": {
    "name": "ipython",
    "version": 3
   },
   "file_extension": ".py",
   "mimetype": "text/x-python",
   "name": "python",
   "nbconvert_exporter": "python",
   "pygments_lexer": "ipython3",
   "version": "3.11.2"
  },
  "orig_nbformat": 4
 },
 "nbformat": 4,
 "nbformat_minor": 2
}
